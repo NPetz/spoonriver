{
 "cells": [
  {
   "cell_type": "code",
   "execution_count": 1,
   "id": "isolated-commonwealth",
   "metadata": {},
   "outputs": [],
   "source": [
    "from bs4 import BeautifulSoup as bs\n",
    "import codecs\n",
    "import json\n",
    "from slugify import slugify"
   ]
  },
  {
   "cell_type": "code",
   "execution_count": 2,
   "id": "burning-holmes",
   "metadata": {},
   "outputs": [],
   "source": [
    "spoon = codecs.open(\"spoon river.html\", 'r', 'utf-8')\n",
    "soup = bs(spoon, 'html.parser')"
   ]
  },
  {
   "cell_type": "code",
   "execution_count": 3,
   "id": "processed-bangkok",
   "metadata": {},
   "outputs": [],
   "source": [
    "head = soup.head\n",
    "soup = soup.body"
   ]
  },
  {
   "cell_type": "code",
   "execution_count": 4,
   "id": "historic-certification",
   "metadata": {},
   "outputs": [],
   "source": [
    "chapters = soup.find_all(class_='chapter')"
   ]
  },
  {
   "cell_type": "code",
   "execution_count": 5,
   "id": "verified-marriage",
   "metadata": {},
   "outputs": [],
   "source": [
    "poems = []\n",
    "for idx,i in enumerate(chapters):\n",
    "    poem = {'title': '', 'text': '','slug':'', 'order': ''}\n",
    "\n",
    "    poem[\"title\"] = str(i.h2.text)\n",
    "    p = i.select(\"p\", class_=\"noindent\")\n",
    "    if p[0]['class'] == ['noindent']:\n",
    "        text = p[0].text\n",
    "    else:\n",
    "        text = p[1].text + i.select('h5')[0].text\n",
    "    poem['text']= text\n",
    "    poem['slug']= slugify(poem[\"title\"])\n",
    "    poem['order'] = idx + 1\n",
    "    poems.append(poem)"
   ]
  },
  {
   "cell_type": "code",
   "execution_count": 6,
   "id": "middle-setup",
   "metadata": {},
   "outputs": [],
   "source": [
    "for i in poems:\n",
    "    file_name = i['title']\n",
    "    f = open(f\"poems/{file_name}.txt\", 'w+')\n",
    "    f.write(i['text'])\n",
    "    f.close()"
   ]
  },
  {
   "cell_type": "code",
   "execution_count": 7,
   "id": "absent-plaintiff",
   "metadata": {},
   "outputs": [],
   "source": [
    "f = open(f\"spoonRiver.json\", 'w+',encoding='utf-8')\n",
    "f.write(json.dumps(poems, ensure_ascii=False, indent=4))\n",
    "f.close()"
   ]
  },
  {
   "cell_type": "code",
   "execution_count": null,
   "id": "tender-objective",
   "metadata": {},
   "outputs": [],
   "source": []
  }
 ],
 "metadata": {
  "kernelspec": {
   "display_name": "Python 3",
   "language": "python",
   "name": "python3"
  },
  "language_info": {
   "codemirror_mode": {
    "name": "ipython",
    "version": 3
   },
   "file_extension": ".py",
   "mimetype": "text/x-python",
   "name": "python",
   "nbconvert_exporter": "python",
   "pygments_lexer": "ipython3",
   "version": "3.9.1-final"
  }
 },
 "nbformat": 4,
 "nbformat_minor": 5
}
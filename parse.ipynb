{
 "cells": [
  {
   "cell_type": "code",
   "execution_count": 257,
   "id": "figured-bacteria",
   "metadata": {},
   "outputs": [],
   "source": [
    "from bs4 import BeautifulSoup as bs\n",
    "import codecs\n",
    "import json"
   ]
  },
  {
   "cell_type": "code",
   "execution_count": 258,
   "id": "qualified-england",
   "metadata": {},
   "outputs": [],
   "source": [
    "spoon = codecs.open(\"spoon river.html\", 'r', 'utf-8')\n",
    "soup = bs(spoon, 'html.parser')"
   ]
  },
  {
   "cell_type": "code",
   "execution_count": 259,
   "id": "painful-essex",
   "metadata": {},
   "outputs": [],
   "source": [
    "head = soup.head\n",
    "soup = soup.body"
   ]
  },
  {
   "cell_type": "code",
   "execution_count": 260,
   "id": "international-mumbai",
   "metadata": {},
   "outputs": [],
   "source": [
    "namelist = []\n",
    "for i in soup.find_all('a'):\n",
    "    if i.text != '':\n",
    "        namelist.append(i.text)\n",
    "namelist = namelist[:-2]"
   ]
  },
  {
   "cell_type": "code",
   "execution_count": 261,
   "id": "facial-government",
   "metadata": {},
   "outputs": [],
   "source": [
    "poemtitles = []\n",
    "for i in soup.find_all('h2'):\n",
    "    if i.text != '':\n",
    "        poemtitles.append(i.text)"
   ]
  },
  {
   "cell_type": "code",
   "execution_count": 262,
   "id": "manufactured-projector",
   "metadata": {},
   "outputs": [],
   "source": [
    "chapters = soup.find_all(class_='chapter')"
   ]
  },
  {
   "cell_type": "code",
   "execution_count": 270,
   "id": "derived-pastor",
   "metadata": {},
   "outputs": [],
   "source": [
    "poems = []\n",
    "for idx,i in enumerate(chapters):\n",
    "    poem = {'title': '', 'text': '','slug':'', 'order': ''}\n",
    "    try:\n",
    "        poem[\"title\"] = str(i.h2.text)\n",
    "        poem['text']= str(i.find_all_next(\"p\")[-1].text)\n",
    "        poem['slug']=  poem[\"title\"].lower().replace(' ','-')\n",
    "        poem['order'] = idx\n",
    "        poems.append(poem)\n",
    "    except:\n",
    "        continue"
   ]
  },
  {
   "cell_type": "code",
   "execution_count": 271,
   "id": "infectious-repeat",
   "metadata": {},
   "outputs": [],
   "source": [
    "for i in poems:\n",
    "    file_name = i['title']\n",
    "    f = open(f\"poems/{file_name}.txt\", 'w')\n",
    "    f.write(i['text'])\n",
    "    f.close()\n",
    "# change The Spooniad manually"
   ]
  },
  {
   "cell_type": "code",
   "execution_count": 272,
   "id": "sudden-updating",
   "metadata": {},
   "outputs": [],
   "source": [
    "f = open(f\"spoonRiver.json\", 'w',encoding='utf-8')\n",
    "f.write(json.dumps(poems, ensure_ascii=False, indent=4))\n",
    "f.close()"
   ]
  },
  {
   "cell_type": "code",
   "execution_count": null,
   "id": "comprehensive-ethiopia",
   "metadata": {},
   "outputs": [],
   "source": []
  }
 ],
 "metadata": {
  "kernelspec": {
   "display_name": "Python 3",
   "language": "python",
   "name": "python3"
  },
  "language_info": {
   "codemirror_mode": {
    "name": "ipython",
    "version": 3
   },
   "file_extension": ".py",
   "mimetype": "text/x-python",
   "name": "python",
   "nbconvert_exporter": "python",
   "pygments_lexer": "ipython3",
   "version": "3.9.1"
  }
 },
 "nbformat": 4,
 "nbformat_minor": 5
}
